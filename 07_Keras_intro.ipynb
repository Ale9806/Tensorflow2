{
 "cells": [
  {
   "cell_type": "markdown",
   "metadata": {},
   "source": [
    "# Keras Sequential API\n",
    "Keras Sequential API is an  High-level API wiithout a specific backened, it actually supports many. As of Tensorflow2 Keras comes preinstalled as a tf module and you can import it using tf.keras "
   ]
  },
  {
   "cell_type": "code",
   "execution_count": 44,
   "metadata": {},
   "outputs": [],
   "source": [
    "import tensorflow as tf\n",
    "from tensorflow.keras.models import Sequential\n",
    "from tensorflow.keras.layers import Dense, Conv2D, MaxPooling2D, Flatten"
   ]
  },
  {
   "cell_type": "markdown",
   "metadata": {},
   "source": [
    "## Overview\n",
    "In this notebook we will not go in depth in every step of the Keras Sequential API, instead we will give a general overview and explain the specifics in latter chapters:\n",
    "\n",
    "The basic procedure to train a generate a network with Keras is :\n",
    "* 1.- load data\n",
    "* 2.- Define model\n",
    "* 3.- Compile model\n",
    "* 4.- Fit (train) model\n",
    "\n",
    "After that we could:\n",
    "* 5.- Make some predictions\n",
    "* 6.- Save the model\n",
    "* 7.- Export the model"
   ]
  },
  {
   "cell_type": "markdown",
   "metadata": {},
   "source": [
    "# Sequential models:\n",
    "\n",
    "A sequential model is appropiate for a `plain stack` of layers (1 inpunt tensors and one output tenosrs)\n",
    "\n",
    "We can use sequential models to define Dense Networks, CNN's and RNN's.\n",
    "\n",
    "We have basically two forms to decleare sequential models:\n",
    "* 1.- Call the sequential() method and feed it a list with the parameters\n",
    "* 2.- Initalize sequential() empty and Add layers one by one\n",
    "\n",
    "\n",
    "### Dense Neural Networks\n",
    "We call Dense layers with the Dense() Mehod. Dense netowrks have 3 basic parameteres:\n",
    "* Number of activation units\n",
    "* Activation function\n",
    "* Name of layer\n",
    "\n",
    "It is important that the first layer especifies the input shape, this is a must in order to initalize the wieghts "
   ]
  },
  {
   "cell_type": "code",
   "execution_count": 37,
   "metadata": {},
   "outputs": [
    {
     "name": "stdout",
     "output_type": "stream",
     "text": [
      "Model: \"sequential_16\"\n",
      "_________________________________________________________________\n",
      "Layer (type)                 Output Shape              Param #   \n",
      "=================================================================\n",
      "layer1 (Dense)               (None, 64)                50240     \n",
      "_________________________________________________________________\n",
      "layer2 (Dense)               (None, 10)                650       \n",
      "=================================================================\n",
      "Total params: 50,890\n",
      "Trainable params: 50,890\n",
      "Non-trainable params: 0\n",
      "_________________________________________________________________\n"
     ]
    }
   ],
   "source": [
    "# 1st method\n",
    "Network = [ Dense(64,activation='relu',input_shape=(784,), name=\"layer1\"), \n",
    "            Dense(10,activation=\"softmax\", name=\"layer2\")\n",
    "          ] \n",
    "\n",
    "model =  Sequential(Network) # call Sequential Method using Network as parrameters\n",
    "model.summary() # check summary"
   ]
  },
  {
   "cell_type": "code",
   "execution_count": 38,
   "metadata": {},
   "outputs": [
    {
     "name": "stdout",
     "output_type": "stream",
     "text": [
      "Model: \"sequential_17\"\n",
      "_________________________________________________________________\n",
      "Layer (type)                 Output Shape              Param #   \n",
      "=================================================================\n",
      "layer1 (Dense)               (None, 64)                50240     \n",
      "_________________________________________________________________\n",
      "layer2 (Dense)               (None, 10)                650       \n",
      "=================================================================\n",
      "Total params: 50,890\n",
      "Trainable params: 50,890\n",
      "Non-trainable params: 0\n",
      "_________________________________________________________________\n"
     ]
    }
   ],
   "source": [
    "#2ns method\n",
    "model = Sequential()  # initialize empty method\n",
    "## add layers one by one\n",
    "model.add(Dense(64,activation='relu',input_shape=(784,), name=\"layer1\"))\n",
    "model.add(Dense(10,activation=\"softmax\",name=\"layer2\"))\n",
    "\n",
    "model.summary() # check summary"
   ]
  },
  {
   "cell_type": "markdown",
   "metadata": {},
   "source": [
    "### Convolutional Neworks\n",
    "We call Convolutional netowrks with the Conv2D() method. This method has  4 basic parameteres:\n",
    "* Number of filter \n",
    "* Shape of convolutional kernel\n",
    "* Padding\n",
    "* Strides\n",
    "* Activation function\n",
    "* Name of layer\n",
    "\n",
    "It is important that the first layer especifies the input shape, this is a must in order to initalize the wieghts "
   ]
  },
  {
   "cell_type": "markdown",
   "metadata": {},
   "source": [
    "```python\n",
    "    model2 =  Sequential([\n",
    "    Conv2D(16 ,(3,3),padding=\"valid\",strides=2, activation='relu',input_shape=(32,32,3)), # CNN\n",
    "    MaxPooling2D((3,3)),                                        # POOlING\n",
    "    Flatten(),                                                  # Flatt into a vector\n",
    "    Dense(64,activation='relu'),                                # Pass through Dense layer\n",
    "    Dense(10,activation='softmax')                              # Pass through Dense layer\n",
    "    ])\n",
    "```\n",
    "\n",
    "**A note on input shape:**\n",
    "<br>\n",
    "The input shape ignroes the size of the train/test data sets, for a CNN the input shape looks like (width,height,channels). It is important to take in mind that when we train CNN with only one channel the data shape has to be given in the form of (width,height,1) and not (width,height)"
   ]
  },
  {
   "cell_type": "markdown",
   "metadata": {},
   "source": [
    "## Compile\n",
    "Once our model is defined we can compile it. In order to compile we can use the compile() method which takes at least three parameter:\n",
    "* Optimizer\n",
    "* Loss\n",
    "* Metrics"
   ]
  },
  {
   "cell_type": "markdown",
   "metadata": {},
   "source": [
    "``` python\n",
    "    model.compile(optimizer='sgd',loss='binary_crossentropy',metrics=['accuracy'])\n",
    "```"
   ]
  },
  {
   "cell_type": "markdown",
   "metadata": {},
   "source": [
    "We can get more controll over the parameters if we uses tf objects"
   ]
  },
  {
   "cell_type": "markdown",
   "metadata": {},
   "source": [
    "```python\n",
    "model.compile(\n",
    "optimizer = tf.keras.optimizers.SGD(learning_rate=0.001, momentum=0.9, nesterov=True),\n",
    "loss = tf.keras.losses.BinaryCrossentropy(from_logits=True),\n",
    "metrics=[tf.keras.metrics.BinaryAccuracy(threshold=0.7),tf.keras.metrics.MeanAbsoluteError()]\n",
    ")\n",
    "```\n",
    "\n",
    "**A note on loss functions:**\n",
    "<br>\n",
    "The most typical loss functios are:\n",
    "* binary_crossentropy: uses (0,1) targets\n",
    "* categorical_crossentropy: uses a one-hot array targets\n",
    "* sparse_categorical_crossentropy:  uses a category index"
   ]
  },
  {
   "cell_type": "markdown",
   "metadata": {},
   "source": [
    "## Fit\n",
    "The last step is to train our model, we can do it with the fit() method which takes:\n",
    "\n",
    "* Data to train\n",
    "* Number of epochs\n",
    "* Validation_data\n",
    "* callback\n",
    "\n",
    "**example:**\n",
    "\n",
    "``` python\n",
    "    model.fit(data,epochs=10,validation_data=val_data,callbacks=[EarlyStopping()])\n",
    "```"
   ]
  }
 ],
 "metadata": {
  "kernelspec": {
   "display_name": "machine_learning_env",
   "language": "python",
   "name": "machine_learning_env"
  },
  "language_info": {
   "codemirror_mode": {
    "name": "ipython",
    "version": 3
   },
   "file_extension": ".py",
   "mimetype": "text/x-python",
   "name": "python",
   "nbconvert_exporter": "python",
   "pygments_lexer": "ipython3",
   "version": "3.7.7"
  }
 },
 "nbformat": 4,
 "nbformat_minor": 4
}
