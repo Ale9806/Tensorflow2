{
 "cells": [
  {
   "cell_type": "code",
   "execution_count": 1,
   "metadata": {},
   "outputs": [
    {
     "name": "stdout",
     "output_type": "stream",
     "text": [
      "TensorFlow version: 2.2.0\n"
     ]
    }
   ],
   "source": [
    "import tensorflow as tf\n",
    "print(f\"TensorFlow version: {tf.__version__}\")"
   ]
  },
  {
   "cell_type": "markdown",
   "metadata": {},
   "source": [
    "## TensorFlow2\n",
    "TensorFlow is an open-source, high-performance library for numerical computation that uses directed graphs. Tensoflow can be used for many things, like solving partial diferential equations, and not only machine learning related tasks\n",
    "\n",
    "A tensor is an N-dimensional array of data: \n",
    "\n",
    "<img src=\"images\\tensors.PNG\" style=\"width:500px;height:200px;\">\n",
    "\n",
    "TensorFlow APIs are arranged hierarchically, with the high-level APIs built on the low-level APIs. Machine learning researchers use the low-level APIs to create and explore new machine learning algorithms.\n",
    "\n",
    "<img src=\"images\\abstractions.PNG\" style=\"width:500px;\">\n",
    "\n",
    "\n",
    "\n",
    "### Lets explore different tensors of various ranks:\n",
    "\n",
    "\n",
    "<img src=\"images\\different_tensors.PNG\" style=\"width:700px;\">\n",
    "\n",
    "If you are familiary with Numpy, tenosrs behave like numpy n-dimensional arrays except that:\n",
    "* <font color=\"green\"> tf.constant</font> produces constant tensors\n",
    "* <font color=\"green\"> tf.Variable </font> produces tenosrs that can be modified"
   ]
  },
  {
   "cell_type": "code",
   "execution_count": 2,
   "metadata": {},
   "outputs": [
    {
     "data": {
      "text/plain": [
       "<tf.Tensor: shape=(2, 3), dtype=int32, numpy=\n",
       "array([[1, 2, 3],\n",
       "       [3, 2, 1]])>"
      ]
     },
     "execution_count": 2,
     "metadata": {},
     "output_type": "execute_result"
    }
   ],
   "source": [
    "x = tf.constant([[1,2,3],[3,2,1]]) # Constant\n",
    "x"
   ]
  },
  {
   "cell_type": "code",
   "execution_count": 6,
   "metadata": {},
   "outputs": [
    {
     "data": {
      "text/plain": [
       "<tf.Variable 'Variable:0' shape=(2, 3) dtype=int32, numpy=\n",
       "array([[8, 1, 2],\n",
       "       [6, 7, 3]])>"
      ]
     },
     "execution_count": 6,
     "metadata": {},
     "output_type": "execute_result"
    }
   ],
   "source": [
    "y = tf.Variable([[8,1,2],[6,7,3]]) # Variable\n",
    "y"
   ]
  },
  {
   "cell_type": "code",
   "execution_count": 10,
   "metadata": {},
   "outputs": [
    {
     "data": {
      "text/plain": [
       "<tf.Tensor: shape=(2, 3), dtype=int32, numpy=\n",
       "array([[ 8,  2,  6],\n",
       "       [18, 14,  3]])>"
      ]
     },
     "execution_count": 10,
     "metadata": {},
     "output_type": "execute_result"
    }
   ],
   "source": [
    "# A Variable and a Constant can intereact with each other\n",
    "x*y"
   ]
  }
 ],
 "metadata": {
  "kernelspec": {
   "display_name": "machine_learning_env",
   "language": "python",
   "name": "machine_learning_env"
  },
  "language_info": {
   "codemirror_mode": {
    "name": "ipython",
    "version": 3
   },
   "file_extension": ".py",
   "mimetype": "text/x-python",
   "name": "python",
   "nbconvert_exporter": "python",
   "pygments_lexer": "ipython3",
   "version": "3.7.7"
  }
 },
 "nbformat": 4,
 "nbformat_minor": 4
}
